{
 "cells": [
  {
   "cell_type": "code",
   "execution_count": null,
   "id": "b086af52",
   "metadata": {
    "id": "b086af52"
   },
   "outputs": [],
   "source": [
    "import os\n",
    "import sys\n",
    "import json\n",
    "import urllib.request as urllib\n",
    "\n",
    "\n",
    "# Install if in Google colab notebook\n",
    "if \"google.colab\" in sys.modules:\n",
    "    os.system(\"python -m pip install --upgrade higlass-widget\")\n",
    "\n",
    "\n",
    "def load_config(url):\n",
    "    with urllib.urlopen(urllib.Request(url)) as response:\n",
    "        raw = response.read()\n",
    "    return json.loads(raw)"
   ]
  },
  {
   "cell_type": "code",
   "execution_count": null,
   "id": "e5a27ac0",
   "metadata": {
    "colab": {
     "base_uri": "https://localhost:8080/",
     "height": 17,
     "referenced_widgets": [
      "e6a4180578bb4b8ca1309b3c927ed757"
     ]
    },
    "id": "e5a27ac0",
    "outputId": "784b0d6e-518a-4cc2-e3da-70ce364714be"
   },
   "outputs": [],
   "source": [
    "from higlass_widget import HiGlassWidget\n",
    "\n",
    "url = \"https://gist.githubusercontent.com/manzt/c2c498dac3ca9804a2b8e4bc1af3b55b/raw/ee8426c9728e875b6f4d65030c61181c6ba29b53/example.json\"\n",
    "conf = load_config(url)\n",
    "w = HiGlassWidget(conf)\n",
    "w"
   ]
  },
  {
   "cell_type": "code",
   "execution_count": null,
   "id": "919293e1",
   "metadata": {
    "id": "919293e1"
   },
   "outputs": [],
   "source": [
    "w.zoom_to(\"aa\", 10000, 1000000)"
   ]
  },
  {
   "cell_type": "code",
   "execution_count": null,
   "id": "f5318b01",
   "metadata": {
    "colab": {
     "base_uri": "https://localhost:8080/"
    },
    "id": "f5318b01",
    "outputId": "6548b80d-67c9-458c-9f49-fca5743ae7af"
   },
   "outputs": [],
   "source": [
    "w.location"
   ]
  },
  {
   "cell_type": "code",
   "execution_count": null,
   "id": "42f046a2",
   "metadata": {
    "id": "42f046a2"
   },
   "outputs": [],
   "source": []
  }
 ],
 "metadata": {
  "colab": {
   "name": "Widget.ipynb",
   "provenance": []
  },
  "kernelspec": {
   "display_name": "Python 3 (ipykernel)",
   "language": "python",
   "name": "python3"
  },
  "language_info": {
   "codemirror_mode": {
    "name": "ipython",
    "version": 3
   },
   "file_extension": ".py",
   "mimetype": "text/x-python",
   "name": "python",
   "nbconvert_exporter": "python",
   "pygments_lexer": "ipython3",
   "version": "3.9.7"
  },
  "widgets": {
   "application/vnd.jupyter.widget-state+json": {
    "e6a4180578bb4b8ca1309b3c927ed757": {
     "model_module": "higlass-widget",
     "model_module_version": "0.0.2",
     "model_name": "HiGlassModel",
     "state": {
      "_dom_classes": [],
      "_model_module": "higlass-widget",
      "_model_module_version": "0.0.2",
      "_model_name": "HiGlassModel",
      "_view_count": null,
      "_view_module": "higlass-widget",
      "_view_module_version": "0.0.2",
      "_view_name": "HiGlassView",
      "_viewconf": "{\"editable\": true, \"zoomFixed\": false, \"trackSourceServers\": [\"//higlass.io/api/v1\", \"https://resgen.io/api/v1/gt/paper-data\"], \"exportViewUrl\": \"/api/v1/viewconfs\", \"views\": [{\"uid\": \"aa\", \"initialXDomain\": [5.960464477539063e-08, 3100000000], \"autocompleteSource\": \"/api/v1/suggest/?d=OHJakQICQD6gTD7skx4EWA&\", \"genomePositionSearchBox\": {\"autocompleteServer\": \"//higlass.io/api/v1\", \"autocompleteId\": \"OHJakQICQD6gTD7skx4EWA\", \"chromInfoServer\": \"//higlass.io/api/v1\", \"chromInfoId\": \"hg19\", \"visible\": true}, \"chromInfoPath\": \"//s3.amazonaws.com/pkerp/data/hg19/chromSizes.tsv\", \"tracks\": {\"top\": [{\"type\": \"horizontal-gene-annotations\", \"height\": 60, \"tilesetUid\": \"OHJakQICQD6gTD7skx4EWA\", \"server\": \"//higlass.io/api/v1\", \"uid\": \"OHJakQICQD6gTD7skx4EWA\", \"options\": {\"name\": \"Gene Annotations (hg19)\", \"fontSize\": 10, \"labelColor\": \"black\", \"labelBackgroundColor\": \"#ffffff\", \"labelPosition\": \"hidden\", \"labelLeftMargin\": 0, \"labelRightMargin\": 0, \"labelTopMargin\": 0, \"labelBottomMargin\": 0, \"minHeight\": 24, \"plusStrandColor\": \"blue\", \"minusStrandColor\": \"red\", \"trackBorderWidth\": 0, \"trackBorderColor\": \"black\", \"showMousePosition\": false, \"mousePositionColor\": \"#000000\", \"geneAnnotationHeight\": 16, \"geneLabelPosition\": \"outside\", \"geneStrandSpacing\": 4}}, {\"chromInfoPath\": \"//s3.amazonaws.com/pkerp/data/hg19/chromSizes.tsv\", \"type\": \"horizontal-chromosome-labels\", \"height\": 30, \"uid\": \"X4e_1DKiQHmyghDa6lLMVA\", \"options\": {\"color\": \"#808080\", \"stroke\": \"#ffffff\", \"fontSize\": 12, \"fontIsLeftAligned\": false, \"showMousePosition\": false, \"mousePositionColor\": \"#000000\", \"reverseOrientation\": false}}], \"left\": [{\"type\": \"vertical-gene-annotations\", \"width\": 60, \"tilesetUid\": \"OHJakQICQD6gTD7skx4EWA\", \"server\": \"//higlass.io/api/v1\", \"options\": {\"labelPosition\": \"bottomRight\", \"name\": \"Gene Annotations (hg19)\", \"fontSize\": 10, \"labelColor\": \"black\", \"labelBackgroundColor\": \"#ffffff\", \"labelLeftMargin\": 0, \"labelRightMargin\": 0, \"labelTopMargin\": 0, \"labelBottomMargin\": 0, \"minHeight\": 24, \"plusStrandColor\": \"blue\", \"minusStrandColor\": \"red\", \"trackBorderWidth\": 0, \"trackBorderColor\": \"black\", \"showMousePosition\": false, \"mousePositionColor\": \"#000000\", \"geneAnnotationHeight\": 16, \"geneLabelPosition\": \"outside\", \"geneStrandSpacing\": 4}, \"uid\": \"dqBTMH78Rn6DeSyDBoAEXw\"}, {\"chromInfoPath\": \"//s3.amazonaws.com/pkerp/data/hg19/chromSizes.tsv\", \"type\": \"vertical-chromosome-labels\", \"width\": 30, \"uid\": \"RHdQK4IRQ7yJeDmKWb7Pcg\", \"options\": {\"color\": \"#808080\", \"stroke\": \"#ffffff\", \"fontSize\": 12, \"fontIsLeftAligned\": false, \"showMousePosition\": false, \"mousePositionColor\": \"#000000\", \"reverseOrientation\": false}}], \"center\": [{\"uid\": \"c1\", \"type\": \"combined\", \"height\": 200, \"contents\": [{\"server\": \"//higlass.io/api/v1\", \"tilesetUid\": \"CQMd6V_cRw6iCI_-Unl3PQ\", \"type\": \"heatmap\", \"options\": {\"maxZoom\": null, \"labelPosition\": \"bottomRight\", \"name\": \"Rao et al. (2014) GM12878 MboI (allreps) 1kb\", \"backgroundColor\": \"#eeeeee\", \"labelLeftMargin\": 0, \"labelRightMargin\": 0, \"labelTopMargin\": 0, \"labelBottomMargin\": 0, \"labelShowResolution\": true, \"labelShowAssembly\": true, \"colorRange\": [\"white\", \"rgba(245,166,35,1.0)\", \"rgba(208,2,27,1.0)\", \"black\"], \"colorbarBackgroundColor\": \"#ffffff\", \"minWidth\": 100, \"minHeight\": 100, \"colorbarPosition\": \"topRight\", \"trackBorderWidth\": 0, \"trackBorderColor\": \"black\", \"heatmapValueScaling\": \"log\", \"showMousePosition\": false, \"mousePositionColor\": \"#000000\", \"showTooltip\": false, \"extent\": \"full\", \"zeroValueColor\": null, \"scaleStartPercent\": \"0.00000\", \"scaleEndPercent\": \"1.00000\"}, \"uid\": \"GjuZed1ySGW1IzZZqFB9BA\", \"transforms\": [{\"name\": \"ICE\", \"value\": \"weight\"}]}], \"options\": {}}], \"right\": [], \"bottom\": [], \"whole\": [], \"gallery\": []}, \"layout\": {\"w\": 12, \"h\": 12, \"x\": 0, \"y\": 0, \"moved\": false, \"static\": false}, \"initialYDomain\": [490458937.19806767, 2609541062.8019323]}], \"zoomLocks\": {\"locksByViewUid\": {}, \"locksDict\": {}}, \"locationLocks\": {\"locksByViewUid\": {}, \"locksDict\": {}}, \"valueScaleLocks\": {\"locksByViewUid\": {}, \"locksDict\": {}}}",
      "layout": "IPY_MODEL_375ad10d185a43a0b3e7984d67baf902",
      "location": []
     }
    }
   }
  }
 },
 "nbformat": 4,
 "nbformat_minor": 5
}
