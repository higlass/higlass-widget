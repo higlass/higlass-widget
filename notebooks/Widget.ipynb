{
 "cells": [
  {
   "cell_type": "code",
   "execution_count": null,
   "id": "b086af52",
   "metadata": {},
   "outputs": [],
   "source": [
    "import os\n",
    "import sys\n",
    "\n",
    "# Install if in Google colab notebook\n",
    "if 'google.colab' in sys.modules:\n",
    "    os.system('python -m pip install --upgrade higlass-widget')"
   ]
  },
  {
   "cell_type": "code",
   "execution_count": null,
   "id": "e5a27ac0",
   "metadata": {},
   "outputs": [],
   "source": [
    "import json\n",
    "\n",
    "from higlass_widget import HiGlassWidget\n",
    "\n",
    "with open(\"example.json\") as f:\n",
    "    conf = json.load(f)\n",
    "    \n",
    "w = HiGlassWidget(conf)\n",
    "w"
   ]
  },
  {
   "cell_type": "code",
   "execution_count": null,
   "id": "919293e1",
   "metadata": {},
   "outputs": [],
   "source": [
    "w.zoom_to(\"aa\", 10000, 1000000)"
   ]
  },
  {
   "cell_type": "code",
   "execution_count": null,
   "id": "f5318b01",
   "metadata": {},
   "outputs": [],
   "source": [
    "w.location"
   ]
  },
  {
   "cell_type": "code",
   "execution_count": null,
   "id": "42f046a2",
   "metadata": {},
   "outputs": [],
   "source": []
  }
 ],
 "metadata": {
  "kernelspec": {
   "display_name": "Python 3 (ipykernel)",
   "language": "python",
   "name": "python3"
  },
  "language_info": {
   "codemirror_mode": {
    "name": "ipython",
    "version": 3
   },
   "file_extension": ".py",
   "mimetype": "text/x-python",
   "name": "python",
   "nbconvert_exporter": "python",
   "pygments_lexer": "ipython3",
   "version": "3.9.7"
  }
 },
 "nbformat": 4,
 "nbformat_minor": 5
}
